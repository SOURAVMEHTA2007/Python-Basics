{
  "nbformat": 4,
  "nbformat_minor": 0,
  "metadata": {
    "colab": {
      "provenance": []
    },
    "kernelspec": {
      "name": "python3",
      "display_name": "Python 3"
    },
    "language_info": {
      "name": "python"
    }
  },
  "cells": [
    {
      "cell_type": "markdown",
      "source": [
        "1) What is Python, and why is it popular?\n",
        "\n",
        "Ans = Python is a programming language. It is a formal language for creating instruction for a computer to fallow.\n",
        "In python there are set of rules and symbols that define the process of writing computer program.\n",
        "\n",
        "Python is a popular programming language becouse\n",
        "\n",
        "- Ease to learn.\n",
        "- widely used in industry.\n",
        "- used in data industry.\n",
        "- python have a lot of libraries.\n",
        "- python can be used for different kind of work, like frontend, backend, automation, data analysis, database, image processing.\n",
        "\n",
        "\n"
      ],
      "metadata": {
        "id": "jkEF15dqGA-G"
      }
    },
    {
      "cell_type": "markdown",
      "source": [
        "2) What is an interpreter in Python?\n",
        "\n",
        "Ans = Interpreter in python is like writing code in python programing language( writing code in english )and then interpreter convert it to machine language(like binary language)step by step, so that computer can follow the given code instruction and execute it."
      ],
      "metadata": {
        "id": "AVQT-RBYLydo"
      }
    },
    {
      "cell_type": "markdown",
      "source": [
        "3) What are pre-defined keywords in Python?\n",
        "\n",
        "Ans = Pre-defined keywords is python are the words that hold a special meaning and have specific purpose\n",
        "like = print, type, if, true, false, etc."
      ],
      "metadata": {
        "id": "7L60n8aqQNah"
      }
    },
    {
      "cell_type": "code",
      "source": [],
      "metadata": {
        "id": "RJzYt_VnTshu"
      },
      "execution_count": null,
      "outputs": []
    },
    {
      "cell_type": "markdown",
      "source": [
        "4) Can keywords be used as variable names?\n",
        "\n",
        "Ans = No, keywords cannot be as veriables names. becouse keywords have special meaning and have specific purpose. if we try to use keywords as veriable names then python will show an errer."
      ],
      "metadata": {
        "id": "YIgcyooKTtZ1"
      }
    },
    {
      "cell_type": "markdown",
      "source": [
        "5) What is mutability in Python?\n",
        "\n",
        "Ans =  Container or object whose state or value can be changed after they are created are called as mutable object or container.\n",
        "Like = list."
      ],
      "metadata": {
        "id": "N4oDymgEWLIW"
      }
    },
    {
      "cell_type": "markdown",
      "source": [
        "6) Why are lists mutable, but tuples are immutable?\n",
        "\n",
        "Ans =\n",
        "- Lists are mutable becouse list is a container having a lots of different values (like, list = [1, 2.3, 5+6j, sourav]) and mutability allows as to change specific value without creating new list. Lists are created in a way there you can change value as per requirment.\n",
        "\n",
        "- Tuples are immutable becouse tuples is a collection of values which cannot be changes once it is creatred. Tuples are immutable as it is designed to represent fixed collections of items or values."
      ],
      "metadata": {
        "id": "s78-jELS4acX"
      }
    },
    {
      "cell_type": "markdown",
      "source": [
        "7) What is the difference between “==” and “is” operators in Python?\n",
        "\n",
        "Ans = \"==\" and \"is\" both are compare operators in python. but work in different way.\n",
        "\n",
        "- \"==\" is used to compare values in two different object.\n",
        "Like A = 5 and B = 5 in this case if we compare A and B output will be true\n",
        "\n",
        "But\n",
        "- \"is\" is used to compare to object not the value.\n",
        "Like A = 5000 and B = 5000 in this case we compare A and B output will be false"
      ],
      "metadata": {
        "id": "54k8Yk1t-KfG"
      }
    },
    {
      "cell_type": "markdown",
      "source": [
        "8) What are logical operators in Python?\n",
        "\n",
        "Ans = Logical operators are used to combine conditional statements and perform logical operations.\n",
        "Like true and false, True or false."
      ],
      "metadata": {
        "id": "vIyuLgxLFnGR"
      }
    },
    {
      "cell_type": "markdown",
      "source": [
        "9) What is type casting in Python?\n",
        "\n",
        "Ans = type casting is the process of changing the data type of a value or objective. becouse some time while executing operators there can be mismatch between datatype."
      ],
      "metadata": {
        "id": "VGC6G1BaKL7n"
      }
    },
    {
      "cell_type": "markdown",
      "source": [
        "10) What is the difference between implicit and explicit type casting?\n",
        "\n",
        "Ans = Implicit type casting is a type casting there python already unterstand the datatype.\n",
        "Like which is str, int, float, etc\n",
        "\n",
        " explicit type casting is a type casting where we manually convert data type using inbuilt functions like str, int, float, etc."
      ],
      "metadata": {
        "id": "KJr971omKDDr"
      }
    },
    {
      "cell_type": "markdown",
      "source": [
        "11) What is the purpose of conditional statements in Python?\n",
        "\n",
        "Ans = The purpose of conditional statements in python program help to make decisions to allow specific block of code to run as per certain conditions.\n",
        "statements Like if, else, else if, etc"
      ],
      "metadata": {
        "id": "1qqxAiJgQ0xn"
      }
    },
    {
      "cell_type": "markdown",
      "source": [
        "12) How does the elif statement work?\n",
        "\n",
        "Ans = elif statement is used to check multiple conditions one by one. if condition is true the corresponding block is executed and skips the below statement."
      ],
      "metadata": {
        "id": "QAqTuTtSWA33"
      }
    },
    {
      "cell_type": "markdown",
      "source": [
        "13) What is the difference between for and while loops?\n",
        "\n",
        "Ans =\n",
        "- For loop helps to iterate over a sequence of elements. create a sequance data\n",
        "\n",
        "- While loop repeatedly execute a block of code untill a condition is met."
      ],
      "metadata": {
        "id": "6dbDPttNcCOk"
      }
    },
    {
      "cell_type": "markdown",
      "source": [
        "14) Describe a scenario where a while loop is more suitable than a for loop.\n",
        "\n",
        "Ans ="
      ],
      "metadata": {
        "id": "bOLO0YNigALU"
      }
    },
    {
      "cell_type": "code",
      "source": [],
      "metadata": {
        "id": "-nbz0SA5iFxE"
      },
      "execution_count": null,
      "outputs": []
    },
    {
      "cell_type": "markdown",
      "source": [
        "# **Practical **"
      ],
      "metadata": {
        "id": "JMryHi3ziIP4"
      }
    },
    {
      "cell_type": "code",
      "source": [],
      "metadata": {
        "id": "oz_pjFDnqFxR"
      },
      "execution_count": null,
      "outputs": []
    },
    {
      "cell_type": "markdown",
      "source": [
        "1) Write a Python program to print \"Hello, World!"
      ],
      "metadata": {
        "id": "PYQC33jHQJfZ"
      }
    },
    {
      "cell_type": "code",
      "source": [
        "print(\"Hello, World!\")"
      ],
      "metadata": {
        "colab": {
          "base_uri": "https://localhost:8080/"
        },
        "id": "U25Z5fI4QUja",
        "outputId": "58128a72-d231-4435-ec0f-d68032c83aa5"
      },
      "execution_count": null,
      "outputs": [
        {
          "output_type": "stream",
          "name": "stdout",
          "text": [
            "Hello, World!\n"
          ]
        }
      ]
    },
    {
      "cell_type": "code",
      "source": [],
      "metadata": {
        "id": "kK33wIw9Qe7M"
      },
      "execution_count": null,
      "outputs": []
    },
    {
      "cell_type": "markdown",
      "source": [
        "2) Write a Python program that displays your name and age."
      ],
      "metadata": {
        "id": "fRyjvhdPQlGl"
      }
    },
    {
      "cell_type": "code",
      "source": [
        "your_name = \"Sourav Mehta\"\n",
        "age = 22"
      ],
      "metadata": {
        "id": "xrK_fQVIQrJP"
      },
      "execution_count": null,
      "outputs": []
    },
    {
      "cell_type": "code",
      "source": [
        "your_name"
      ],
      "metadata": {
        "colab": {
          "base_uri": "https://localhost:8080/",
          "height": 36
        },
        "id": "ZmUQow4rRIlg",
        "outputId": "d8c6674a-c808-4127-c43a-a01403a49e16"
      },
      "execution_count": null,
      "outputs": [
        {
          "output_type": "execute_result",
          "data": {
            "text/plain": [
              "'Sourav Mehta'"
            ],
            "application/vnd.google.colaboratory.intrinsic+json": {
              "type": "string"
            }
          },
          "metadata": {},
          "execution_count": 56
        }
      ]
    },
    {
      "cell_type": "code",
      "source": [
        "age"
      ],
      "metadata": {
        "colab": {
          "base_uri": "https://localhost:8080/"
        },
        "id": "VOkPeYZtRxvm",
        "outputId": "ee1bccd6-f70e-4889-d915-deaaa283f9a5"
      },
      "execution_count": null,
      "outputs": [
        {
          "output_type": "execute_result",
          "data": {
            "text/plain": [
              "22"
            ]
          },
          "metadata": {},
          "execution_count": 57
        }
      ]
    },
    {
      "cell_type": "code",
      "source": [],
      "metadata": {
        "id": "sGgR4xw8R0gd"
      },
      "execution_count": null,
      "outputs": []
    },
    {
      "cell_type": "markdown",
      "source": [
        "3) Write code to print all the pre-defined keywords in Python using the keyword library."
      ],
      "metadata": {
        "id": "e_b6YVVIR5HB"
      }
    },
    {
      "cell_type": "code",
      "source": [
        "help('keywords')"
      ],
      "metadata": {
        "colab": {
          "base_uri": "https://localhost:8080/"
        },
        "id": "pFSwH-qbSIMf",
        "outputId": "1081cd3b-fda7-473d-aa32-4ac467cbe45f"
      },
      "execution_count": null,
      "outputs": [
        {
          "output_type": "stream",
          "name": "stdout",
          "text": [
            "\n",
            "Here is a list of the Python keywords.  Enter any keyword to get more help.\n",
            "\n",
            "False               class               from                or\n",
            "None                continue            global              pass\n",
            "True                def                 if                  raise\n",
            "and                 del                 import              return\n",
            "as                  elif                in                  try\n",
            "assert              else                is                  while\n",
            "async               except              lambda              with\n",
            "await               finally             nonlocal            yield\n",
            "break               for                 not                 \n",
            "\n"
          ]
        }
      ]
    },
    {
      "cell_type": "code",
      "source": [],
      "metadata": {
        "id": "k2BIQnSlSxKg"
      },
      "execution_count": null,
      "outputs": []
    },
    {
      "cell_type": "markdown",
      "source": [
        "4) Write a program that checks if a given word is a Python keyword."
      ],
      "metadata": {
        "id": "cgPbP99dS7fp"
      }
    },
    {
      "cell_type": "code",
      "source": [
        "import keyword\n",
        "\n",
        "def check_keyword(word):\n",
        "    if keyword.iskeyword(word):\n",
        "        return f\"'{word}' is a Python keyword.\"\n",
        "    else:\n",
        "        return f\"'{word}' is not a Python keyword.\"\n",
        "\n",
        "# Test the function\n",
        "word = input(\"Enter a word to check if it's a Python keyword: \")\n",
        "print(check_keyword(word))\n"
      ],
      "metadata": {
        "id": "vkcXQk82e6Pj",
        "colab": {
          "base_uri": "https://localhost:8080/"
        },
        "outputId": "3f976843-cbdf-4774-f8b3-f59562e0f2e6"
      },
      "execution_count": null,
      "outputs": [
        {
          "output_type": "stream",
          "name": "stdout",
          "text": [
            "Enter a word to check if it's a Python keyword: if\n",
            "'if' is a Python keyword.\n"
          ]
        }
      ]
    },
    {
      "cell_type": "code",
      "source": [],
      "metadata": {
        "id": "mzJyrS6X6ZFU"
      },
      "execution_count": null,
      "outputs": []
    },
    {
      "cell_type": "markdown",
      "source": [
        "5) Create a list and tuple in Python, and demonstrate how attempting to change an element works differently\n",
        "for each."
      ],
      "metadata": {
        "id": "YmS7neuz7Xzi"
      }
    },
    {
      "cell_type": "code",
      "source": [
        "# creating a list\n",
        "\n",
        "list = [1, 2, 4.5, 4+5j, \"sourav\"]\n",
        "list"
      ],
      "metadata": {
        "colab": {
          "base_uri": "https://localhost:8080/"
        },
        "id": "-cbsOm5j9l59",
        "outputId": "8f663429-9302-4c31-b3b4-56d81f75492a"
      },
      "execution_count": null,
      "outputs": [
        {
          "output_type": "execute_result",
          "data": {
            "text/plain": [
              "[1, 2, 4.5, (4+5j), 'sourav']"
            ]
          },
          "metadata": {},
          "execution_count": 7
        }
      ]
    },
    {
      "cell_type": "code",
      "source": [
        "# changing list element\n",
        "\n",
        "list[1] = 10\n",
        "list"
      ],
      "metadata": {
        "colab": {
          "base_uri": "https://localhost:8080/"
        },
        "id": "6iwyJ_-X_OPw",
        "outputId": "27726e29-d399-4ee6-aa91-7905f14c8de1"
      },
      "execution_count": null,
      "outputs": [
        {
          "output_type": "execute_result",
          "data": {
            "text/plain": [
              "[1, 10, 4.5, (4+5j), 'sourav']"
            ]
          },
          "metadata": {},
          "execution_count": 10
        }
      ]
    },
    {
      "cell_type": "code",
      "source": [
        "# creating a tuple\n",
        "\n",
        "tuple = (1, 2, 4.5, 4+5j, \"sourav\")\n",
        "tuple"
      ],
      "metadata": {
        "colab": {
          "base_uri": "https://localhost:8080/"
        },
        "id": "FmSm9oRN_ljh",
        "outputId": "bd95a255-de50-4afd-e55a-e6e85cbf01db"
      },
      "execution_count": null,
      "outputs": [
        {
          "output_type": "execute_result",
          "data": {
            "text/plain": [
              "(1, 2, 4.5, (4+5j), 'sourav')"
            ]
          },
          "metadata": {},
          "execution_count": 14
        }
      ]
    },
    {
      "cell_type": "code",
      "source": [
        "# trying to change tuple\n",
        "tuple[0] = 10\n",
        "tuple\n",
        "# tuple is immutable and it will shows an errer while changing."
      ],
      "metadata": {
        "colab": {
          "base_uri": "https://localhost:8080/",
          "height": 158
        },
        "id": "XjK5N311Apa_",
        "outputId": "089554f2-b621-4e33-8cc6-22e4edbafb03"
      },
      "execution_count": null,
      "outputs": [
        {
          "output_type": "error",
          "ename": "TypeError",
          "evalue": "'tuple' object does not support item assignment",
          "traceback": [
            "\u001b[0;31m---------------------------------------------------------------------------\u001b[0m",
            "\u001b[0;31mTypeError\u001b[0m                                 Traceback (most recent call last)",
            "\u001b[0;32m<ipython-input-15-1afec6423ba5>\u001b[0m in \u001b[0;36m<cell line: 0>\u001b[0;34m()\u001b[0m\n\u001b[0;32m----> 1\u001b[0;31m \u001b[0mtuple\u001b[0m\u001b[0;34m[\u001b[0m\u001b[0;36m0\u001b[0m\u001b[0;34m]\u001b[0m \u001b[0;34m=\u001b[0m \u001b[0;36m10\u001b[0m\u001b[0;34m\u001b[0m\u001b[0;34m\u001b[0m\u001b[0m\n\u001b[0m\u001b[1;32m      2\u001b[0m \u001b[0mtuple\u001b[0m\u001b[0;34m\u001b[0m\u001b[0;34m\u001b[0m\u001b[0m\n",
            "\u001b[0;31mTypeError\u001b[0m: 'tuple' object does not support item assignment"
          ]
        }
      ]
    },
    {
      "cell_type": "code",
      "source": [],
      "metadata": {
        "id": "7CJe4sXmAxsF"
      },
      "execution_count": null,
      "outputs": []
    },
    {
      "cell_type": "markdown",
      "source": [
        "6) Write a function to demonstrate the behavior of mutable and immutable arguments."
      ],
      "metadata": {
        "id": "mC9LICkcCHCK"
      }
    },
    {
      "cell_type": "code",
      "source": [
        "# mutable >>Container or object whose state or value can be changed after they are created are called as mutable object or container. Like = list.\n",
        "\n",
        "list = [1, 2, 4.5, 4+5j, \"sourav\"]\n",
        "list[1] = 20"
      ],
      "metadata": {
        "id": "cUXXtl3fEeWL"
      },
      "execution_count": null,
      "outputs": []
    },
    {
      "cell_type": "code",
      "source": [
        "list"
      ],
      "metadata": {
        "colab": {
          "base_uri": "https://localhost:8080/"
        },
        "id": "cn5oTbHaEgUp",
        "outputId": "557a78e9-766b-4cf9-e043-9bedb781d23f"
      },
      "execution_count": null,
      "outputs": [
        {
          "output_type": "execute_result",
          "data": {
            "text/plain": [
              "[1, 20, 4.5, (4+5j), 'sourav']"
            ]
          },
          "metadata": {},
          "execution_count": 20
        }
      ]
    },
    {
      "cell_type": "code",
      "source": [
        "# immutable >> Container or object whose state or value cannot be changed after they are created are called as immutable object or container. Like = tuble.\n",
        "\n",
        "tuble = (1, 2, 4.5, 4+5j, \"sourav\")\n",
        "tuble[1] = 20"
      ],
      "metadata": {
        "colab": {
          "base_uri": "https://localhost:8080/",
          "height": 176
        },
        "id": "qkAazqC6EiW-",
        "outputId": "74c2088e-a56d-414f-8ab2-8aae2bf6fc0d"
      },
      "execution_count": null,
      "outputs": [
        {
          "output_type": "error",
          "ename": "TypeError",
          "evalue": "'tuple' object does not support item assignment",
          "traceback": [
            "\u001b[0;31m---------------------------------------------------------------------------\u001b[0m",
            "\u001b[0;31mTypeError\u001b[0m                                 Traceback (most recent call last)",
            "\u001b[0;32m<ipython-input-22-2b562b2fd633>\u001b[0m in \u001b[0;36m<cell line: 0>\u001b[0;34m()\u001b[0m\n\u001b[1;32m      2\u001b[0m \u001b[0;34m\u001b[0m\u001b[0m\n\u001b[1;32m      3\u001b[0m \u001b[0mtuble\u001b[0m \u001b[0;34m=\u001b[0m \u001b[0;34m(\u001b[0m\u001b[0;36m1\u001b[0m\u001b[0;34m,\u001b[0m \u001b[0;36m2\u001b[0m\u001b[0;34m,\u001b[0m \u001b[0;36m4.5\u001b[0m\u001b[0;34m,\u001b[0m \u001b[0;36m4\u001b[0m\u001b[0;34m+\u001b[0m\u001b[0;36m5j\u001b[0m\u001b[0;34m,\u001b[0m \u001b[0;34m\"sourav\"\u001b[0m\u001b[0;34m)\u001b[0m\u001b[0;34m\u001b[0m\u001b[0;34m\u001b[0m\u001b[0m\n\u001b[0;32m----> 4\u001b[0;31m \u001b[0mtuble\u001b[0m\u001b[0;34m[\u001b[0m\u001b[0;36m1\u001b[0m\u001b[0;34m]\u001b[0m \u001b[0;34m=\u001b[0m \u001b[0;36m20\u001b[0m\u001b[0;34m\u001b[0m\u001b[0;34m\u001b[0m\u001b[0m\n\u001b[0m",
            "\u001b[0;31mTypeError\u001b[0m: 'tuple' object does not support item assignment"
          ]
        }
      ]
    },
    {
      "cell_type": "code",
      "source": [],
      "metadata": {
        "id": "SoMvlp4sFTgA"
      },
      "execution_count": null,
      "outputs": []
    },
    {
      "cell_type": "markdown",
      "source": [
        "8) Write a program to demonstrate the use of logical operators."
      ],
      "metadata": {
        "id": "jEFrkStAFtEu"
      }
    },
    {
      "cell_type": "code",
      "source": [
        "# logical operators >> and, or and not\n",
        "\n",
        "x = 5\n",
        "y = 20\n",
        "\n",
        "# using and operators\n",
        "\n",
        "(x < 6 and y > 15) # both condition are true = true"
      ],
      "metadata": {
        "colab": {
          "base_uri": "https://localhost:8080/"
        },
        "id": "TN3TZz3TFxDp",
        "outputId": "5c3a4c11-7099-4b12-a749-bebdd01a132d"
      },
      "execution_count": null,
      "outputs": [
        {
          "output_type": "execute_result",
          "data": {
            "text/plain": [
              "True"
            ]
          },
          "metadata": {},
          "execution_count": 60
        }
      ]
    },
    {
      "cell_type": "code",
      "source": [
        "(x < 6 and y > 25) # one condition is true = false"
      ],
      "metadata": {
        "colab": {
          "base_uri": "https://localhost:8080/"
        },
        "id": "ZdjAIblEbkgK",
        "outputId": "8b582ad8-9df3-4184-b7fd-ec64cd6f162c"
      },
      "execution_count": null,
      "outputs": [
        {
          "output_type": "execute_result",
          "data": {
            "text/plain": [
              "False"
            ]
          },
          "metadata": {},
          "execution_count": 61
        }
      ]
    },
    {
      "cell_type": "code",
      "source": [
        "# using or operators\n",
        "\n",
        "(x < 6 or y > 25) # only one condition is true =  true"
      ],
      "metadata": {
        "colab": {
          "base_uri": "https://localhost:8080/"
        },
        "id": "FYKEpO59eIRq",
        "outputId": "0718afed-aa1d-4a5e-e9f0-ff17c6a2cbb7"
      },
      "execution_count": null,
      "outputs": [
        {
          "output_type": "execute_result",
          "data": {
            "text/plain": [
              "True"
            ]
          },
          "metadata": {},
          "execution_count": 62
        }
      ]
    },
    {
      "cell_type": "code",
      "source": [
        "(x > 9 or y < 4) # both condition is false = false"
      ],
      "metadata": {
        "colab": {
          "base_uri": "https://localhost:8080/"
        },
        "id": "cTCtGc-_etRy",
        "outputId": "7724323e-602b-44b2-af8f-9f577eb7a23b"
      },
      "execution_count": null,
      "outputs": [
        {
          "output_type": "execute_result",
          "data": {
            "text/plain": [
              "False"
            ]
          },
          "metadata": {},
          "execution_count": 63
        }
      ]
    },
    {
      "cell_type": "code",
      "source": [
        "# using not operators\n",
        "\n",
        "not(x < 7) # x is not grater then 7 = false"
      ],
      "metadata": {
        "colab": {
          "base_uri": "https://localhost:8080/"
        },
        "id": "cnScuop0fI4a",
        "outputId": "991c6fe0-31ad-4e9f-cc9b-6d841f07cc31"
      },
      "execution_count": null,
      "outputs": [
        {
          "output_type": "execute_result",
          "data": {
            "text/plain": [
              "False"
            ]
          },
          "metadata": {},
          "execution_count": 67
        }
      ]
    },
    {
      "cell_type": "code",
      "source": [
        "not(x > 7) # x is grater then 7 = true"
      ],
      "metadata": {
        "colab": {
          "base_uri": "https://localhost:8080/"
        },
        "id": "PiKN6ra7gCu6",
        "outputId": "77372df2-43d3-41d9-fa7c-1b1fb9f2ef0d"
      },
      "execution_count": null,
      "outputs": [
        {
          "output_type": "execute_result",
          "data": {
            "text/plain": [
              "True"
            ]
          },
          "metadata": {},
          "execution_count": 68
        }
      ]
    },
    {
      "cell_type": "code",
      "source": [],
      "metadata": {
        "id": "0wDbVrY-gPDu"
      },
      "execution_count": null,
      "outputs": []
    },
    {
      "cell_type": "markdown",
      "source": [
        "9) Write a Python program to convert user input from string to integer, float, and boolean types.\n"
      ],
      "metadata": {
        "id": "YV_9GEflhBb8"
      }
    },
    {
      "cell_type": "code",
      "source": [
        "# string to integer\n",
        "a = int(\"100\")\n",
        "type(a)"
      ],
      "metadata": {
        "colab": {
          "base_uri": "https://localhost:8080/"
        },
        "id": "w2qPZZlqhLiB",
        "outputId": "d533fe82-5bd8-4fd0-a0ea-cdd3c90ae054"
      },
      "execution_count": null,
      "outputs": [
        {
          "output_type": "execute_result",
          "data": {
            "text/plain": [
              "int"
            ]
          },
          "metadata": {},
          "execution_count": 72
        }
      ]
    },
    {
      "cell_type": "code",
      "source": [
        "# string to float\n",
        "a = float(\"100\")\n",
        "type(a)"
      ],
      "metadata": {
        "colab": {
          "base_uri": "https://localhost:8080/"
        },
        "id": "i4uEeCneh3Yu",
        "outputId": "19e3f2f5-7ff9-4383-ca5b-a2a6eba2c676"
      },
      "execution_count": null,
      "outputs": [
        {
          "output_type": "execute_result",
          "data": {
            "text/plain": [
              "float"
            ]
          },
          "metadata": {},
          "execution_count": 73
        }
      ]
    },
    {
      "cell_type": "code",
      "source": [
        "# string to boolean\n",
        "a = bool(\"100\")\n",
        "type(a)"
      ],
      "metadata": {
        "colab": {
          "base_uri": "https://localhost:8080/"
        },
        "id": "cpVMEW7Hic72",
        "outputId": "94d83586-2dea-483a-af67-ef223ce0b1ad"
      },
      "execution_count": null,
      "outputs": [
        {
          "output_type": "execute_result",
          "data": {
            "text/plain": [
              "bool"
            ]
          },
          "metadata": {},
          "execution_count": 107
        }
      ]
    },
    {
      "cell_type": "markdown",
      "source": [
        "10) Write code to demonstrate type casting with list elements."
      ],
      "metadata": {
        "id": "i9RaLCYzinzy"
      }
    },
    {
      "cell_type": "code",
      "source": [
        "list = [1, 10, 5.8, 5+4j, \"sourav\"]\n",
        "list"
      ],
      "metadata": {
        "colab": {
          "base_uri": "https://localhost:8080/"
        },
        "id": "zoLqPOjjiukC",
        "outputId": "9bbcce0d-c790-42ed-9b7e-691a0538bb12"
      },
      "execution_count": null,
      "outputs": [
        {
          "output_type": "execute_result",
          "data": {
            "text/plain": [
              "[1, 10, 5.8, (5+4j), 'sourav']"
            ]
          },
          "metadata": {},
          "execution_count": 101
        }
      ]
    },
    {
      "cell_type": "code",
      "source": [
        "list[1]"
      ],
      "metadata": {
        "colab": {
          "base_uri": "https://localhost:8080/"
        },
        "id": "ujIzciyVnQZR",
        "outputId": "f7a0193c-65dc-4f2b-ebef-b6a511c08386"
      },
      "execution_count": null,
      "outputs": [
        {
          "output_type": "execute_result",
          "data": {
            "text/plain": [
              "10"
            ]
          },
          "metadata": {},
          "execution_count": 102
        }
      ]
    },
    {
      "cell_type": "code",
      "source": [
        "type(list[1])"
      ],
      "metadata": {
        "colab": {
          "base_uri": "https://localhost:8080/"
        },
        "id": "e40hH9Z-nBHi",
        "outputId": "0c1d78c0-15db-40cc-9549-c84728c9346c"
      },
      "execution_count": null,
      "outputs": [
        {
          "output_type": "execute_result",
          "data": {
            "text/plain": [
              "int"
            ]
          },
          "metadata": {},
          "execution_count": 103
        }
      ]
    },
    {
      "cell_type": "code",
      "source": [
        "str(list[1])"
      ],
      "metadata": {
        "colab": {
          "base_uri": "https://localhost:8080/",
          "height": 36
        },
        "id": "mcU8wOYOnkmP",
        "outputId": "ec16d59f-5bf8-4f04-c44c-726a9873ac6a"
      },
      "execution_count": null,
      "outputs": [
        {
          "output_type": "execute_result",
          "data": {
            "text/plain": [
              "'10'"
            ],
            "application/vnd.google.colaboratory.intrinsic+json": {
              "type": "string"
            }
          },
          "metadata": {},
          "execution_count": 106
        }
      ]
    },
    {
      "cell_type": "code",
      "source": [],
      "metadata": {
        "id": "9MuYhx1Koi9Y"
      },
      "execution_count": null,
      "outputs": []
    },
    {
      "cell_type": "markdown",
      "source": [
        "11) Write a program that checks if a number is positive, negative, or zero."
      ],
      "metadata": {
        "id": "ERNx4PI1pJGg"
      }
    },
    {
      "cell_type": "code",
      "source": [
        "number = input(str(\"inter number\"))\n",
        "\n",
        "if number > 0:\n",
        "  print(\"number is positive\")\n",
        "elif number < 0:\n",
        "  print(\"number is negative\")\n",
        "else:\n",
        "  print(\"number is zero\")"
      ],
      "metadata": {
        "colab": {
          "base_uri": "https://localhost:8080/",
          "height": 228
        },
        "id": "tjTcgeN-rGls",
        "outputId": "fcdaaffb-cc2b-4c14-e437-a04ec8550157"
      },
      "execution_count": null,
      "outputs": [
        {
          "name": "stdout",
          "output_type": "stream",
          "text": [
            "inter number7\n"
          ]
        },
        {
          "output_type": "error",
          "ename": "TypeError",
          "evalue": "'>' not supported between instances of 'str' and 'int'",
          "traceback": [
            "\u001b[0;31m---------------------------------------------------------------------------\u001b[0m",
            "\u001b[0;31mTypeError\u001b[0m                                 Traceback (most recent call last)",
            "\u001b[0;32m<ipython-input-118-62d0b66fa983>\u001b[0m in \u001b[0;36m<cell line: 0>\u001b[0;34m()\u001b[0m\n\u001b[1;32m      1\u001b[0m \u001b[0mnumber\u001b[0m \u001b[0;34m=\u001b[0m \u001b[0minput\u001b[0m\u001b[0;34m(\u001b[0m\u001b[0mstr\u001b[0m\u001b[0;34m(\u001b[0m\u001b[0;34m\"inter number\"\u001b[0m\u001b[0;34m)\u001b[0m\u001b[0;34m)\u001b[0m\u001b[0;34m\u001b[0m\u001b[0;34m\u001b[0m\u001b[0m\n\u001b[1;32m      2\u001b[0m \u001b[0;34m\u001b[0m\u001b[0m\n\u001b[0;32m----> 3\u001b[0;31m \u001b[0;32mif\u001b[0m \u001b[0mnumber\u001b[0m \u001b[0;34m>\u001b[0m \u001b[0;36m0\u001b[0m\u001b[0;34m:\u001b[0m\u001b[0;34m\u001b[0m\u001b[0;34m\u001b[0m\u001b[0m\n\u001b[0m\u001b[1;32m      4\u001b[0m   \u001b[0mprint\u001b[0m\u001b[0;34m(\u001b[0m\u001b[0;34m\"number is positive\"\u001b[0m\u001b[0;34m)\u001b[0m\u001b[0;34m\u001b[0m\u001b[0;34m\u001b[0m\u001b[0m\n\u001b[1;32m      5\u001b[0m \u001b[0;32melif\u001b[0m \u001b[0mnumber\u001b[0m \u001b[0;34m<\u001b[0m \u001b[0;36m0\u001b[0m\u001b[0;34m:\u001b[0m\u001b[0;34m\u001b[0m\u001b[0;34m\u001b[0m\u001b[0m\n",
            "\u001b[0;31mTypeError\u001b[0m: '>' not supported between instances of 'str' and 'int'"
          ]
        }
      ]
    },
    {
      "cell_type": "code",
      "source": [],
      "metadata": {
        "id": "mABjCW-Tszle"
      },
      "execution_count": null,
      "outputs": []
    },
    {
      "cell_type": "markdown",
      "source": [
        " 12) Write a for loop to print numbers from 1 to 100."
      ],
      "metadata": {
        "id": "aMeDpEBtzjun"
      }
    },
    {
      "cell_type": "code",
      "source": [],
      "metadata": {
        "id": "tZXKPAdb2iC3"
      },
      "execution_count": null,
      "outputs": []
    }
  ]
}